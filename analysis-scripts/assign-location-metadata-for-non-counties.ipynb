{
 "cells": [
  {
   "cell_type": "code",
   "execution_count": 1,
   "id": "87dcfb87",
   "metadata": {},
   "outputs": [],
   "source": [
    "import pandas as pd"
   ]
  },
  {
   "cell_type": "code",
   "execution_count": 174,
   "id": "b0e066dc",
   "metadata": {},
   "outputs": [
    {
     "name": "stderr",
     "output_type": "stream",
     "text": [
      "/Users/ablack/opt/miniconda3/envs/humboldt-analysis/lib/python3.8/site-packages/IPython/core/interactiveshell.py:3165: DtypeWarning: Columns (8) have mixed types.Specify dtype option on import or set low_memory=False.\n",
      "  has_raised = await self.run_ast_nodes(code_ast.body, cell_name,\n"
     ]
    }
   ],
   "source": [
    "#metadata_path = \"~Desktop/gitrepos/ncov/data/gisaid_metadata.tsv\"\n",
    "#metadata_df = pd.read_csv(metadata_path, delimiter=\"\\t\")\n",
    "metadata_df = pd.read_csv(\"/Users/ablack/Desktop/gitrepos/ncov/data/gisaid_metadata.tsv\", delimiter = \"\\t\")"
   ]
  },
  {
   "cell_type": "code",
   "execution_count": 17,
   "id": "e2ada43c",
   "metadata": {},
   "outputs": [],
   "source": [
    "CA_counties_with_seqs = [\"Alameda County\",\"Butte County\", \"Contra Costa County\", \"Del Norte County\", \"Fresno County\",\"Humboldt County\",\n",
    "                        \"Imperial County\", \"Kings County\", \"Lake County\", \"Los Angeles County\", \"Madera County\", \"Marin County\", \"Mariposa County\", \"Mendocino County\",\n",
    "                        \"Merced County\", \"Mono County\", \"Monterey County\", \"Napa County\", \"Orange County\", \"Riverside County\", \"Sacramento County\",\n",
    "                        \"San Bernardino County\", \"San Diego County\", \"San Francisco County\", \"San Joaquin County\", \"San Luis Obispo County\", \"Santa Clara County\",\n",
    "                        \"Shasta County\", \"Solano County\",\"Stanislaus County\", \"Tulare County\", \"Tuolumne County\", \"Ventura County\"]"
   ]
  },
  {
   "cell_type": "markdown",
   "id": "c0ce0d7e",
   "metadata": {},
   "source": [
    "Here I need to make a new column to hold the spatial data that I will use for my discrete trait analysis. Notably, I don't have location information at the county level for most locations outside of CA. So, what I want to do is assign location as County for anything within CA. For anything outside of CA, I'll specify the location just at the regional level. This reduces the sheer number of demes I need to manage, and also ensures I have a record for every sequence.\n",
    "Also, since I'm using this phylogeo analysis to look at introductions to Humboldt, but not looking at source sink dynamics, this feels reasonable."
   ]
  },
  {
   "cell_type": "code",
   "execution_count": 175,
   "id": "80afefcf",
   "metadata": {},
   "outputs": [],
   "source": [
    "#first step, fill info in for every record.\n",
    "metadata_df['location'] = metadata_df['location'].fillna(\"?\")\n",
    "metadata_df.loc[metadata_df[\"location\"]==\"?\", \"adjusted_loc\"] = metadata_df[\"region\"]\n",
    "metadata_df.loc[metadata_df[\"location\"]!=\"?\", \"adjusted_loc\"] = metadata_df[\"location\"]"
   ]
  },
  {
   "cell_type": "code",
   "execution_count": 177,
   "id": "984e18c1",
   "metadata": {},
   "outputs": [],
   "source": [
    "for i in metadata_df.iterrows():\n",
    "    row = i[1]\n",
    "    if row[\"adjusted_loc\"] not in CA_counties_with_seqs and row[\"adjusted_loc\"]!= row[\"region\"]:\n",
    "        metadata_df.at[i[0],\"adjusted_loc\"] = metadata_df.at[i[0],\"region\"]"
   ]
  },
  {
   "cell_type": "code",
   "execution_count": 181,
   "id": "5cb3a1bb",
   "metadata": {},
   "outputs": [],
   "source": [
    "#then drop the old location column, rename the adjusted_loc column and write to file.\n",
    "adjusted_metadata_df = metadata_df.drop(columns=[\"location\"])\n",
    "adjusted_metadata_df_renamed = adjusted_metadata_df.rename({\"adjusted_loc\":\"location\"}, axis=\"columns\")\n",
    "adjusted_metadata_df_renamed.to_csv(\"/Users/ablack/Desktop/gitrepos/ncov/data/gisaid_metadata_location_adjusted.tsv\", sep = \"\\t\")"
   ]
  }
 ],
 "metadata": {
  "kernelspec": {
   "display_name": "Python 3",
   "language": "python",
   "name": "python3"
  },
  "language_info": {
   "codemirror_mode": {
    "name": "ipython",
    "version": 3
   },
   "file_extension": ".py",
   "mimetype": "text/x-python",
   "name": "python",
   "nbconvert_exporter": "python",
   "pygments_lexer": "ipython3",
   "version": "3.8.8"
  }
 },
 "nbformat": 4,
 "nbformat_minor": 5
}
