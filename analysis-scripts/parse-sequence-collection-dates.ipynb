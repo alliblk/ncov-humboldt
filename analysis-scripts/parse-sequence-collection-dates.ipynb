{
 "cells": [
  {
   "cell_type": "code",
   "execution_count": 209,
   "id": "95cea89b",
   "metadata": {},
   "outputs": [],
   "source": [
    "\n",
    "# remember to load the environment first by running `conda activate colombia_analysis`\n",
    "#import all the handy dandy libraries\n",
    "import sys\n",
    "import numpy as np\n",
    "import pandas as pd\n",
    "import json\n",
    "import matplotlib as mpl\n",
    "import matplotlib.pyplot as plt\n",
    "from matplotlib import font_manager as fm\n",
    "from matplotlib import gridspec\n",
    "%matplotlib inline\n",
    "\n",
    "#get useful tools from augur\n",
    "from augur.utils import json_to_tree\n",
    "\n",
    "#import baltic\n",
    "import imp\n",
    "bt = imp.load_source('baltic','./baltic.py')\n",
    "\n",
    "#datetime libraries\n",
    "import datetime\n",
    "from datetime import timedelta"
   ]
  },
  {
   "cell_type": "code",
   "execution_count": 267,
   "id": "44866a72",
   "metadata": {},
   "outputs": [],
   "source": [
    "#some useful functions\n",
    "\n",
    "def decimalDateToCalendarDate(decimalDate):\n",
    "    \"\"\" Converts decimal dates to YYYY-MM-DD format\"\"\"\n",
    "    year = int(decimalDate)\n",
    "    dt_format_year = datetime.datetime(year, 1, 1)\n",
    "    remainder = decimalDate - year\n",
    "    calendar_date = dt_format_year + timedelta(seconds=(dt_format_year.replace(year=dt_format_year.year + 1) - dt_format_year).total_seconds() * remainder)\n",
    "    return calendar_date.strftime('%Y-%m-%d')\n",
    "\n",
    "\n",
    "def timestampToDecimalDate(sampling_date):\n",
    "    \"\"\" This function takes in a Datetime Timestamp object and retuns the decimal date format of the date.\n",
    "        Note that the decimal date will count all time UP TO the specified calendar date. For example, if my date is Jan 3,\n",
    "        then the decimal fraction will represent two days worth of seconds (all the seconds of Jan 1 and Jan 2).\n",
    "        \n",
    "        Also note that this function requires the timestamp to be in Datetime format, which is DIFFERENT than pandas'\n",
    "        timestamp format. Therefore, if dates are coming from a pandas df, you'll likely need to convert them with x.to_pydatetime()\n",
    "        before you can pass them to thus function.\"\"\"\n",
    "    \n",
    "    year =  sampling_date.year\n",
    "    beginning_of_year = dt.datetime(year,1,1) #year, month, day, so year 1,1 == beginning of year\n",
    "    end_of_year = dt.datetime(year+1,1,1) #next year 1,1 is a full year away from beginning of sampling year\n",
    "    #return fraction of the full year (in seconds) that occurs between jan 1st and your sampling date\n",
    "    return year + ((sampling_date - beginning_of_year).total_seconds() / ((end_of_year - beginning_of_year).total_seconds()))"
   ]
  },
  {
   "cell_type": "code",
   "execution_count": 214,
   "id": "16e46521",
   "metadata": {},
   "outputs": [
    {
     "name": "stdout",
     "output_type": "stream",
     "text": [
      "\n",
      "Tree height: 1.192331\n",
      "Tree length: 235.684820\n",
      "multitype tree\n",
      "annotations present\n",
      "\n",
      "Numbers of objects in tree: 1690 (398 nodes and 1292 leaves)\n",
      "\n",
      "<baltic.tree object at 0x7fb5c14271c0>\n"
     ]
    }
   ],
   "source": [
    "#load tree in as BALTIC tree object\n",
    "tree = bt.loadJSON(json_object=\"./humboldt_ancestors_210308.json\",json_translation={'name':'name','absoluteTime':'num_date'},verbose=False,sort=True,stats=True)\n",
    "\n",
    "print(tree[0])"
   ]
  },
  {
   "cell_type": "code",
   "execution_count": 268,
   "id": "ccdb74e3",
   "metadata": {},
   "outputs": [],
   "source": [
    "#there are a few samples that represent Humboldt County but were collected by other groups. Want to make sure they're captured.\n",
    "humboldt_samples_originating_labs = [\"Humboldt County Public Health Laboratory\",\"Chiu Laboratory, University of California, San Francisco\", \"California Department of Public Health\"]\n",
    "\n",
    "#and then parse through the tree and grab collection dates for any sample that was collected from Humboldt.\n",
    "sample_collection_dates = {}\n",
    "for k in tree[0].Objects: #actual BALTIC tree object is the first element of the tuple after import.\n",
    "    if k.branchType == \"leaf\" and k.traits[\"originating_lab\"] in humboldt_samples_originating_labs:\n",
    "        try:\n",
    "            if k.traits[\"location\"] == \"Humboldt County\":\n",
    "                sample_collection_dates[k.name] = [decimalDateToCalendarDate(k.absoluteTime)]\n",
    "            \n",
    "        except KeyError: #not every sample has a \"location\" value. But all Humboldt ones will.\n",
    "            pass"
   ]
  },
  {
   "cell_type": "code",
   "execution_count": 269,
   "id": "11f87d09",
   "metadata": {},
   "outputs": [],
   "source": [
    "#take this dict and put it into pandas df format (and make date pandas compatible)\n",
    "seq_collection_dates_df = pd.DataFrame.from_dict(sample_collection_dates, orient='index', columns=['date'])"
   ]
  },
  {
   "cell_type": "code",
   "execution_count": 271,
   "id": "d53da48f",
   "metadata": {},
   "outputs": [
    {
     "data": {
      "text/html": [
       "<div>\n",
       "<style scoped>\n",
       "    .dataframe tbody tr th:only-of-type {\n",
       "        vertical-align: middle;\n",
       "    }\n",
       "\n",
       "    .dataframe tbody tr th {\n",
       "        vertical-align: top;\n",
       "    }\n",
       "\n",
       "    .dataframe thead th {\n",
       "        text-align: right;\n",
       "    }\n",
       "</style>\n",
       "<table border=\"1\" class=\"dataframe\">\n",
       "  <thead>\n",
       "    <tr style=\"text-align: right;\">\n",
       "      <th></th>\n",
       "      <th>date</th>\n",
       "    </tr>\n",
       "  </thead>\n",
       "  <tbody>\n",
       "    <tr>\n",
       "      <th>P20-0911</th>\n",
       "      <td>2020-04-06</td>\n",
       "    </tr>\n",
       "    <tr>\n",
       "      <th>P20-3252</th>\n",
       "      <td>2020-05-27</td>\n",
       "    </tr>\n",
       "    <tr>\n",
       "      <th>P20-0508</th>\n",
       "      <td>2020-03-27</td>\n",
       "    </tr>\n",
       "    <tr>\n",
       "      <th>P20-0505</th>\n",
       "      <td>2020-03-27</td>\n",
       "    </tr>\n",
       "    <tr>\n",
       "      <th>P20-1130</th>\n",
       "      <td>2020-04-13</td>\n",
       "    </tr>\n",
       "    <tr>\n",
       "      <th>...</th>\n",
       "      <td>...</td>\n",
       "    </tr>\n",
       "    <tr>\n",
       "      <th>P21-03864</th>\n",
       "      <td>2021-01-26</td>\n",
       "    </tr>\n",
       "    <tr>\n",
       "      <th>P21-03869</th>\n",
       "      <td>2021-01-25</td>\n",
       "    </tr>\n",
       "    <tr>\n",
       "      <th>P21-03627</th>\n",
       "      <td>2021-01-25</td>\n",
       "    </tr>\n",
       "    <tr>\n",
       "      <th>P21-04136</th>\n",
       "      <td>2021-01-27</td>\n",
       "    </tr>\n",
       "    <tr>\n",
       "      <th>P21-03881</th>\n",
       "      <td>2021-01-26</td>\n",
       "    </tr>\n",
       "  </tbody>\n",
       "</table>\n",
       "<p>820 rows × 1 columns</p>\n",
       "</div>"
      ],
      "text/plain": [
       "                 date\n",
       "P20-0911   2020-04-06\n",
       "P20-3252   2020-05-27\n",
       "P20-0508   2020-03-27\n",
       "P20-0505   2020-03-27\n",
       "P20-1130   2020-04-13\n",
       "...               ...\n",
       "P21-03864  2021-01-26\n",
       "P21-03869  2021-01-25\n",
       "P21-03627  2021-01-25\n",
       "P21-04136  2021-01-27\n",
       "P21-03881  2021-01-26\n",
       "\n",
       "[820 rows x 1 columns]"
      ]
     },
     "execution_count": 271,
     "metadata": {},
     "output_type": "execute_result"
    }
   ],
   "source": [
    "seq_collection_dates_df"
   ]
  },
  {
   "cell_type": "code",
   "execution_count": 309,
   "id": "4a357b18",
   "metadata": {},
   "outputs": [],
   "source": [
    "#then, for the df we have with sequenced sample collection dates, get numbers of sequences collected per day.\n",
    "n_genomes_per_day = pd.DataFrame(seq_collection_dates_df[\"date\"].value_counts().sort_index())\n",
    "name_fixed_df = n_genomes_per_day.rename(columns={\"date\":\"count\"})\n",
    "name_fixed_df.to_csv(\"./n_sequenced_genomes_per_day.csv\", index_label = \"date\")\n",
    "\n",
    "######## If Joe wants this series filled in with days that had 0 collected sequences, then just do what's commented out below\n",
    "######## which basically makes a df filled with 0's for all days in the index df, and then adds our actual counts to it.\n",
    "\n",
    "### make a df that spans every date from the first collection date of a sequenced sample to the last collection date of a sequenced sample.\n",
    "#date_index = pd.date_range(seq_collection_dates_df[\"date\"].min(), seq_collection_dates_df[\"date\"].max(), freq='d')\n",
    "#empty_curve = case_counts_per_day.reindex(day_index).fillna(0)\n",
    "#epi_curve = empty_curve.add(case_counts_per_day).fillna(0)"
   ]
  },
  {
   "cell_type": "code",
   "execution_count": null,
   "id": "4d37fbb3",
   "metadata": {},
   "outputs": [],
   "source": []
  }
 ],
 "metadata": {
  "kernelspec": {
   "display_name": "Python 3",
   "language": "python",
   "name": "python3"
  },
  "language_info": {
   "codemirror_mode": {
    "name": "ipython",
    "version": 3
   },
   "file_extension": ".py",
   "mimetype": "text/x-python",
   "name": "python",
   "nbconvert_exporter": "python",
   "pygments_lexer": "ipython3",
   "version": "3.8.8"
  }
 },
 "nbformat": 4,
 "nbformat_minor": 5
}
